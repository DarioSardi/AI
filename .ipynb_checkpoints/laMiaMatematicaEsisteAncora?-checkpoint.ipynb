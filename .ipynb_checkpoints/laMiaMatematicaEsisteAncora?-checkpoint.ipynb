{
 "cells": [
  {
   "cell_type": "code",
   "execution_count": 1,
   "metadata": {},
   "outputs": [],
   "source": [
    "import numpy as np"
   ]
  },
  {
   "cell_type": "markdown",
   "metadata": {},
   "source": [
    "FEEDFORWARD TEST"
   ]
  },
  {
   "cell_type": "code",
   "execution_count": 2,
   "metadata": {},
   "outputs": [
    {
     "name": "stdout",
     "output_type": "stream",
     "text": [
      "[[0.05201972]\n",
      " [0.43663601]\n",
      " [0.46440448]]\n"
     ]
    }
   ],
   "source": [
    "x=np.random.random((3,1))\n",
    "print(x)"
   ]
  },
  {
   "cell_type": "code",
   "execution_count": 3,
   "metadata": {},
   "outputs": [
    {
     "name": "stdout",
     "output_type": "stream",
     "text": [
      "[[0.53379214 0.41103896 0.59605825]\n",
      " [0.58532877 0.64058598 0.899485  ]\n",
      " [0.78327735 0.32654234 0.40133037]\n",
      " [0.55356614 0.99012117 0.98033167]]\n"
     ]
    }
   ],
   "source": [
    "w_ih=np.random.random((4,3))\n",
    "print(w_ih)"
   ]
  },
  {
   "cell_type": "code",
   "execution_count": 4,
   "metadata": {},
   "outputs": [
    {
     "name": "stdout",
     "output_type": "stream",
     "text": [
      "[[0.48405425]\n",
      " [0.72787641]\n",
      " [0.36970563]\n",
      " [0.91638934]]\n"
     ]
    }
   ],
   "source": [
    "h=w_ih@x\n",
    "print(h)"
   ]
  },
  {
   "cell_type": "code",
   "execution_count": 5,
   "metadata": {},
   "outputs": [
    {
     "name": "stdout",
     "output_type": "stream",
     "text": [
      "[[3.48405425]\n",
      " [3.72787641]\n",
      " [3.36970563]\n",
      " [3.91638934]]\n"
     ]
    }
   ],
   "source": [
    "h+=3 #bias\n",
    "print(h)"
   ]
  },
  {
   "cell_type": "code",
   "execution_count": 6,
   "metadata": {},
   "outputs": [],
   "source": [
    "def sigmoid(x):\n",
    "    return 1.0/(1+ np.exp(-x))"
   ]
  },
  {
   "cell_type": "code",
   "execution_count": 7,
   "metadata": {},
   "outputs": [
    {
     "name": "stdout",
     "output_type": "stream",
     "text": [
      "[[0.97023064]\n",
      " [0.97652069]\n",
      " [0.96674423]\n",
      " [0.98047592]]\n"
     ]
    }
   ],
   "source": [
    "H=sigmoid(h)\n",
    "print(H)"
   ]
  },
  {
   "cell_type": "code",
   "execution_count": 8,
   "metadata": {},
   "outputs": [
    {
     "name": "stdout",
     "output_type": "stream",
     "text": [
      "[[0.70291005 0.84330852 0.04018599 0.13123722]]\n"
     ]
    }
   ],
   "source": [
    "w_ih=np.random.random((1,4))\n",
    "print(w_ih)"
   ]
  },
  {
   "cell_type": "code",
   "execution_count": 9,
   "metadata": {},
   "outputs": [
    {
     "name": "stdout",
     "output_type": "stream",
     "text": [
      "[[4.6730176]]\n"
     ]
    }
   ],
   "source": [
    "out=w_ih@H\n",
    "out+=3 #bias\n",
    "print(out)"
   ]
  },
  {
   "cell_type": "markdown",
   "metadata": {},
   "source": [
    "BACKPROPAGATION TEST"
   ]
  },
  {
   "cell_type": "code",
   "execution_count": 11,
   "metadata": {},
   "outputs": [
    {
     "name": "stdout",
     "output_type": "stream",
     "text": [
      "[[1]\n",
      " [0]\n",
      " [0]]\n"
     ]
    }
   ],
   "source": [
    "y= np.reshape([1,0,0],(3,1))\n",
    "print(y)"
   ]
  },
  {
   "cell_type": "code",
   "execution_count": 14,
   "metadata": {},
   "outputs": [
    {
     "name": "stdout",
     "output_type": "stream",
     "text": [
      "[[0.88708719]\n",
      " [0.53711186]\n",
      " [0.66419022]\n",
      " [0.25976461]\n",
      " [0.80153545]\n",
      " [0.881101  ]\n",
      " [0.12116121]\n",
      " [0.21869726]\n",
      " [0.90214645]\n",
      " [0.78447698]\n",
      " [0.80158004]\n",
      " [0.0626105 ]\n",
      " [0.17960762]\n",
      " [0.82873028]\n",
      " [0.77132552]\n",
      " [0.82265816]\n",
      " [0.9437693 ]\n",
      " [0.95087923]\n",
      " [0.10060444]\n",
      " [0.0927141 ]]\n"
     ]
    }
   ],
   "source": [
    "i =np.random.random((20,1))\n",
    "print(i)"
   ]
  },
  {
   "cell_type": "code",
   "execution_count": null,
   "metadata": {},
   "outputs": [],
   "source": []
  }
 ],
 "metadata": {
  "kernelspec": {
   "display_name": "Python 3",
   "language": "python",
   "name": "python3"
  },
  "language_info": {
   "codemirror_mode": {
    "name": "ipython",
    "version": 3
   },
   "file_extension": ".py",
   "mimetype": "text/x-python",
   "name": "python",
   "nbconvert_exporter": "python",
   "pygments_lexer": "ipython3",
   "version": "3.7.0"
  }
 },
 "nbformat": 4,
 "nbformat_minor": 2
}
