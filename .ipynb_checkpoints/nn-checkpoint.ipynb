{
 "cells": [
  {
   "cell_type": "code",
   "execution_count": 74,
   "metadata": {},
   "outputs": [],
   "source": [
    "\"\"\"\n",
    "One layer Neural Network\n",
    "=====\n",
    "Provides a simple 1 hidden layer neural network.\n",
    "__init__(input_size,output_size,hidden_layer_size) \\n\n",
    "input_size : number of parameters passed as inputs for training or guessing \\n\n",
    "output_size : number of output parameters expected \\n\n",
    "hidden_layer_size : number of hidden layer neurons \\n\n",
    "\"\"\"\n",
    "import numpy as np\n",
    "import matplotlib.pyplot as plt\n",
    "\n",
    "def sigmoid(x):\n",
    "    return 1.0/(1+ np.exp(-x))\n",
    "\n",
    "def sigmoidD(x):\n",
    "    return x*(1.0-x)\n",
    "\n",
    "class NeuralNet:\n",
    "\n",
    "    def __init__(self, in_nodes, hid_nodes, out_nodes):\n",
    "        self.input_nodes = in_nodes\n",
    "        self.hidden_nodes = hid_nodes\n",
    "        self.output_nodes = out_nodes\n",
    "\n",
    "        self.weights_ih = np.random.random(( self.hidden_nodes,self.input_nodes))\n",
    "        self.weights_ho = np.random.random((self.output_nodes,self.hidden_nodes))\n",
    "\n",
    "        self.bias_h = np.random.random((self.hidden_nodes,1))\n",
    "        self.bias_o = np.random.random((self.output_nodes,1))\n",
    "\n",
    "    def ff(self,input_array):\n",
    "        self.hidden=sigmoid((self.weights_ih@input_array)+self.bias_h)\n",
    "        self.output=sigmoid((self.weights_ho@self.hidden)+self.bias_o)\n",
    "    def train(self,input_array, target_array):\n",
    "        #OUTPUT AND HIDDEN LAYER VALUE GEN.\n",
    "        self.ff(input_array)\n",
    "        outputs=self.output\n",
    "        hidden= self.hidden\n",
    "        targets=target_array\n",
    "        #ERROR\n",
    "        output_errors = targets-outputs\n",
    "        gradients = sigmoidD(outputs)\n",
    "        #ok\n",
    "        gradients = gradients@output_errors #@learning rate\n",
    "        weight_ho_deltas = gradients@hidden.T\n",
    "        self.weights_ho+=weight_ho_deltas\n",
    "        self.bias_o+=gradients\n",
    "        #hidden e\n",
    "        hidden_errors = self.weights_ho.T@output_errors #ok\n",
    "        hidden_gradient=sigmoidD(hidden)\n",
    "        hidden_gradient= hidden_gradient@hidden_errors #@learning rate\n",
    "        #input-hid delta\n",
    "        weight_ih_deltas = hidden_gradient@inputs.T\n",
    "        self.weights_ih+=weight_ih_deltas\n",
    "        self.bias_h+=hidden_gradient"
   ]
  },
  {
   "cell_type": "code",
   "execution_count": 75,
   "metadata": {},
   "outputs": [],
   "source": [
    "#%%\n",
    "import numpy as np \n",
    "import matplotlib.pyplot as plt\n",
    "import matplotlib.gridspec as gridspec\n",
    "from PIL import Image\n",
    "import random\n",
    "#import basic1LNN.neuralNet  as nn\n",
    "\n",
    "#########################  IMPORT SETS  #######################################\n",
    "clouds=np.load(\"dataset/cloud.npy\") #28x28 img\n",
    "birds=np.load(\"dataset/bird.npy\") #28x28 img\n",
    "eiffel=np.load(\"dataset/eiffel.npy\") #28x28 img\n",
    "\n",
    "\n",
    "########################  INIT THE SETS  ######################################\n",
    "splitClouds=random.randint(0,120265)\n",
    "TrainClouds,TestClouds = np.split(clouds,[splitClouds])\n",
    "splitBirds=random.randint(0,133572)\n",
    "TrainBirds,TestBirds = np.split(birds,[splitBirds])\n",
    "splitEiffel=random.randint(0,134801)\n",
    "TrainEiffel,TestEiffel = np.split(eiffel,[splitEiffel])\n",
    "###############################################################################\n",
    "\n",
    "def plotSome(a,columns,rows):\n",
    "    fig=plt.figure(figsize=(28, 28))\n",
    "    for i in range(1, columns*rows +1):\n",
    "        img1 = 255-a[random.randint(0,len(a))]\n",
    "        img2 = np.split(img1,28)\n",
    "        ax1 = fig.add_subplot(rows, columns, i,clip_on=False)\n",
    "        ax1.axis('off')\n",
    "        plt.imshow(img2,cmap='gray')\n",
    "    plt.subplots_adjust(wspace=0, hspace=0)\n",
    "    plt.show()\n",
    "\n",
    "#plotSome(clouds,5,5)"
   ]
  },
  {
   "cell_type": "code",
   "execution_count": 76,
   "metadata": {
    "scrolled": false
   },
   "outputs": [
    {
     "name": "stdout",
     "output_type": "stream",
     "text": [
      "(3, 1)\n"
     ]
    },
    {
     "ename": "ValueError",
     "evalue": "shapes (3,1) and (3,1) not aligned: 1 (dim 1) != 3 (dim 0)",
     "output_type": "error",
     "traceback": [
      "\u001b[0;31m---------------------------------------------------------------------------\u001b[0m",
      "\u001b[0;31mValueError\u001b[0m                                Traceback (most recent call last)",
      "\u001b[0;32m<ipython-input-76-732f300263c7>\u001b[0m in \u001b[0;36m<module>\u001b[0;34m\u001b[0m\n\u001b[1;32m      4\u001b[0m \u001b[0my\u001b[0m\u001b[0;34m=\u001b[0m\u001b[0mnp\u001b[0m\u001b[0;34m.\u001b[0m\u001b[0mreshape\u001b[0m\u001b[0;34m(\u001b[0m\u001b[0mnp\u001b[0m\u001b[0;34m.\u001b[0m\u001b[0marray\u001b[0m\u001b[0;34m(\u001b[0m\u001b[0;34m[\u001b[0m\u001b[0;36m1\u001b[0m\u001b[0;34m,\u001b[0m\u001b[0;36m0\u001b[0m\u001b[0;34m,\u001b[0m\u001b[0;36m0\u001b[0m\u001b[0;34m]\u001b[0m\u001b[0;34m)\u001b[0m\u001b[0;34m,\u001b[0m\u001b[0;34m(\u001b[0m\u001b[0;36m3\u001b[0m\u001b[0;34m,\u001b[0m\u001b[0;36m1\u001b[0m\u001b[0;34m)\u001b[0m\u001b[0;34m)\u001b[0m\u001b[0;34m\u001b[0m\u001b[0m\n\u001b[1;32m      5\u001b[0m \u001b[0moracle\u001b[0m\u001b[0;34m.\u001b[0m\u001b[0mff\u001b[0m\u001b[0;34m(\u001b[0m\u001b[0mx\u001b[0m\u001b[0;34m)\u001b[0m\u001b[0;34m\u001b[0m\u001b[0m\n\u001b[0;32m----> 6\u001b[0;31m \u001b[0moracle\u001b[0m\u001b[0;34m.\u001b[0m\u001b[0mtrain\u001b[0m\u001b[0;34m(\u001b[0m\u001b[0mx\u001b[0m\u001b[0;34m,\u001b[0m\u001b[0my\u001b[0m\u001b[0;34m)\u001b[0m\u001b[0;34m\u001b[0m\u001b[0m\n\u001b[0m",
      "\u001b[0;32m<ipython-input-74-26532bdc0b30>\u001b[0m in \u001b[0;36mtrain\u001b[0;34m(self, input_array, target_array)\u001b[0m\n\u001b[1;32m     43\u001b[0m         \u001b[0mgradients\u001b[0m \u001b[0;34m=\u001b[0m \u001b[0msigmoidD\u001b[0m\u001b[0;34m(\u001b[0m\u001b[0moutputs\u001b[0m\u001b[0;34m)\u001b[0m\u001b[0;34m\u001b[0m\u001b[0m\n\u001b[1;32m     44\u001b[0m         \u001b[0mprint\u001b[0m\u001b[0;34m(\u001b[0m\u001b[0moutputs\u001b[0m\u001b[0;34m.\u001b[0m\u001b[0mshape\u001b[0m\u001b[0;34m)\u001b[0m\u001b[0;34m\u001b[0m\u001b[0m\n\u001b[0;32m---> 45\u001b[0;31m         \u001b[0mgradients\u001b[0m \u001b[0;34m=\u001b[0m \u001b[0mgradients\u001b[0m\u001b[0;34m@\u001b[0m\u001b[0moutput_errors\u001b[0m \u001b[0;31m#@learning rate\u001b[0m\u001b[0;34m\u001b[0m\u001b[0m\n\u001b[0m\u001b[1;32m     46\u001b[0m         \u001b[0mweight_ho_deltas\u001b[0m \u001b[0;34m=\u001b[0m \u001b[0mgradients\u001b[0m\u001b[0;34m@\u001b[0m\u001b[0mhidden\u001b[0m\u001b[0;34m.\u001b[0m\u001b[0mT\u001b[0m\u001b[0;34m\u001b[0m\u001b[0m\n\u001b[1;32m     47\u001b[0m         \u001b[0mself\u001b[0m\u001b[0;34m.\u001b[0m\u001b[0mweights_ho\u001b[0m\u001b[0;34m+=\u001b[0m\u001b[0mweight_ho_deltas\u001b[0m\u001b[0;34m\u001b[0m\u001b[0m\n",
      "\u001b[0;31mValueError\u001b[0m: shapes (3,1) and (3,1) not aligned: 1 (dim 1) != 3 (dim 0)"
     ]
    }
   ],
   "source": [
    "oracle = NeuralNet(784,64,3)\n",
    "inN = 100\n",
    "x=np.reshape(TestBirds[3],(784,1))\n",
    "y=np.reshape(np.array([1,0,0]),(3,1))\n",
    "oracle.ff(x)\n",
    "oracle.train(x,y)\n"
   ]
  },
  {
   "cell_type": "code",
   "execution_count": null,
   "metadata": {},
   "outputs": [],
   "source": []
  },
  {
   "cell_type": "code",
   "execution_count": null,
   "metadata": {},
   "outputs": [],
   "source": []
  },
  {
   "cell_type": "code",
   "execution_count": null,
   "metadata": {},
   "outputs": [],
   "source": []
  }
 ],
 "metadata": {
  "celltoolbar": "Edit Metadata",
  "kernelspec": {
   "display_name": "Python 3",
   "language": "python",
   "name": "python3"
  },
  "language_info": {
   "codemirror_mode": {
    "name": "ipython",
    "version": 3
   },
   "file_extension": ".py",
   "mimetype": "text/x-python",
   "name": "python",
   "nbconvert_exporter": "python",
   "pygments_lexer": "ipython3",
   "version": "3.7.0"
  }
 },
 "nbformat": 4,
 "nbformat_minor": 2
}
